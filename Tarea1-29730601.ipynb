{
 "cells": [
  {
   "cell_type": "markdown",
   "metadata": {
    "colab_type": "text",
    "id": "cyHnKzqdeP73"
   },
   "source": [
    "<img src=\"escudo_utfsm.gif\" style=\"float:right;height:100px\">\n",
    "<img src=\"IsotipoDIisocolor.png\" style=\"float:left;height:100px\">\n",
    "<center>\n",
    "    <h1> ILI286 - Computación Científica II</h1>\n",
    "    <h1> Tarea 1: Deflation y Matrices Sparse </h1> \n",
    "    <h3> Cesar Contreras Zamorano </h3>\n",
    "    <h3> cesar.contrerasz@sansano.usm.cl </h3>\n",
    "    <h3> 2973060-1 </h3>\n",
    "</center>\n",
    "\n",
    "---"
   ]
  },
  {
   "cell_type": "code",
   "execution_count": 506,
   "metadata": {},
   "outputs": [],
   "source": [
    "import numpy as np\n",
    "import scipy as sp\n",
    "import scipy.sparse as sparse\n",
    "from scipy.sparse.linalg import eigs\n",
    "import time\n",
    "from scipy.sparse import csr_matrix\n",
    "import sys\n",
    "from numpy.linalg import norm, solve\n",
    "import matplotlib.pyplot as plt\n",
    "%matplotlib inline\n",
    "from ipywidgets import interact"
   ]
  },
  {
   "cell_type": "markdown",
   "metadata": {
    "colab_type": "text",
    "id": "wosjMLgZeP79"
   },
   "source": [
    "## Contexto"
   ]
  },
  {
   "cell_type": "markdown",
   "metadata": {
    "colab_type": "text",
    "id": "bZH1FuvIebrD"
   },
   "source": [
    "Esta tarea tiene como objetivo aplicar los contenidos vistos en clase, respecto a métodos numéricos para obtener valores y vectores propios. Además, esta instancia servirá para recordar (o aprender) el uso de *Jupyter Notebook*, junto con las principales bibliotecas del curso: *Numpy* y *Scipy*."
   ]
  },
  {
   "cell_type": "markdown",
   "metadata": {
    "colab_type": "text",
    "id": "ZxTtGo5FXNfa"
   },
   "source": [
    "## Sección 1: Algoritmo Deflation (30 puntos)\n",
    "\n",
    "Se discutió en clases que una de las principales propiedades que tienen las matrices simétricas es que\n",
    "\n",
    "* Sus valores propios son reales.\n",
    "* Sus vectores propios son ortogonales.\n",
    "\n",
    "Sabemos que por medio de *Power Iteration* e *Inverse Power Iteration*, podemos rescatar algunos de los valores propios y vectores propios. Mediante *Normalized Simultaneous Iteration* o *Unshifted QR*, podemos extraer todos los valores y vectores propios al mismo tiempo. Ahora veremos un método distinto para extraer los valores y vectores propios, uno por uno."
   ]
  },
  {
   "cell_type": "markdown",
   "metadata": {},
   "source": [
    "Consideremos una matriz $A \\in \\mathbb{R}^{n \\times n}$ simétrica cuyos valores propios son $\\lambda_i$ (por simplicidad, consideraremos que también son todos positivos) y sus vectores propios son $\\mathbf{v}_i$, para $i \\in \\{1, 2, \\dots, n\\}$. Considere además que $\\lambda_i > \\lambda_j$, para todo $i < j$, es decir, los valores propios están ordenados. Considere ahora la matriz $A_1$ definida como:\n",
    "\n",
    "$$\n",
    "    A_1 = A - \\lambda_1\\mathbf{v}_1\\,\\mathbf{v}_1^T.\n",
    "$$"
   ]
  },
  {
   "cell_type": "markdown",
   "metadata": {},
   "source": [
    "**1. (5 puntos)** Demuestre que los vectores propios de $A$ también son los vectores propios de $A_1$. ¿Cuáles son los valores propios de $A_1$?"
   ]
  },
  {
   "cell_type": "markdown",
   "metadata": {},
   "source": [
    "Consideremos el hecho de que los valores propios estan ordenados y que estamos operando con matrices simetricas, tomemos el vector propio dominante de A y multipliquemoslo por $A_1$:\n",
    "\n",
    "$A_1 v_{1} = (A − \\lambda_{1} v_{1} v_{1}^{T})v_{1}$\n",
    "\n",
    "$A_1 v_{1} = A v_{1} − \\lambda_{1} v_{1} v_{1}^{T} v_{1}$\n",
    "$A_1 v_{i} = \\lambda_{1} v_{i} − \\lambda_{1} v_{1} v_{1}^{T} v_{1}$\n",
    "\n",
    "Pero sabemos que $v_{1}^{T} v_{1} = 1$, entonces\n",
    "$A_1 v_{i} = \\lambda_{1} v_{1} v_{1}^{T})v_{1}$\n",
    "\n",
    "Por tanto podemos notar que el valor propio asociado a $v_1$ es cero. Por no tanto no es su valor propio dominante como ocurría con A.\n",
    "\n",
    "Ahora consideremos un vector cualquiera v, con v distinto de $v_1$:\n",
    "\n",
    "$A_1 v = (A − \\lambda_{1} v_{1} v_{1}^{T})v$\n",
    "\n",
    "$A_1 v = A v − \\lambda_{1} v_{1} v_{1}^{T} v $\n",
    "\n",
    "$A_1 v = \\lambda v − \\lambda_{1} v_{1} v_{1}^{T} v$\n",
    "\n",
    "Pero sabemos que $v_{1}^{T} v= 0$, entonces\n",
    "$A_1 v = \\lambda v$\n",
    "\n",
    "de esta manera podemos ver que el vector v es vector propio de $A_1$ con valor propio asociado $\\lambda$, por tanto $A_1$ tienen los mismos valores propios y y vectores que A, con excepcion de $\\lambda_1=0$ que implica que el valor dominante de $A_1$ es $\\lambda_2 $ y el vector propio dominante es $v_2$"
   ]
  },
  {
   "cell_type": "markdown",
   "metadata": {},
   "source": [
    "**2. (10 puntos)** El proceso anterior, denominado *Deflation*, puede repetirse iterativamente para construir un algoritmo iterativo que permita encontrar los valores y vectores propios en sucesión. El algoritmo, paso a paso, puede definirse como:\n",
    "\n",
    "1. Se define $A_0 = A$, $\\lambda_0 = 0$ y $\\mathbf{v}_0 = \\mathbf{0}$.\n",
    "2. Para $i \\in \\{1, 2, \\dots, n\\}$\n",
    "    1. Se define $A_i = A_{i-1} - \\lambda_{i-1}\\mathbf{v}_{i-1}\\,\\mathbf{v}_{i-1}^T$.\n",
    "    2. Se encuentra el valor y vector propio dominante de $A_{i}$, denotados por $\\lambda_{i}$ y $\\mathbf{v}_{i}$, respectivamente.\n",
    "3. Se retorna el conjunto $\\{\\lambda_1, \\lambda_2, \\dots, \\lambda_n\\}$ y $\\{ \\mathbf{v}_{1}, \\mathbf{v}_{2}, \\dots, \\mathbf{v}_{n}\\}$.\n",
    "\n",
    "Implemente la función `deflation`, el cual aplicará el algoritmo *Deflation* mediante el uso de *Power Iteration*. Esta función debe recibir como parámetros:\n",
    "* La matriz $A$.\n",
    "* Un *initial guess* $\\mathbf{x}_0$.\n",
    "* Un número de iteraciones.\n",
    "\n",
    "La función debe retornar una lista con los valores propios encontrados y una lista de los vectores propios encontrados."
   ]
  },
  {
   "cell_type": "code",
   "execution_count": 226,
   "metadata": {},
   "outputs": [],
   "source": [
    "'''\n",
    "    Program 12.1 Power iteration\n",
    "    Computes dominant eigenvector of square matrix\n",
    "    Input: matrix A, initial (nonzero) vector x, number of steps k\n",
    "    Output: dominant eigenvalue lam, eigenvector u\n",
    "'''\n",
    "def power_iteration(A, x, k, verbose=False):\n",
    "    if verbose: print(\"Power Iteration Method\\n%s\"%('='*80))\n",
    "    for j in range(k):\n",
    "        u = x/norm(x)\n",
    "        x = np.dot(A, u)\n",
    "        lam = np.dot(u, x) #not really necessary to compute it at each iteration\n",
    "        if verbose: print(\"k=%d, lambda=%+.3f, u=%s\"%(j,lam,str(u.T)))\n",
    "    u = x/norm(x)\n",
    "    if verbose: print(\"k=%d, lambda=%+.3f, u=%s\\n\"%(j+1,lam,str(u.T)))\n",
    "    return lam, u \n",
    "\n",
    "'''\n",
    "Given a list of n real vaues, returns a symmetric matrix whose eigenvalues are the given values.\n",
    "Input:\n",
    "eig_values - (list) list of n real values that will be used as eigenvalues\n",
    "Output: \n",
    "A - (n x n matrix) A symmetric matrix whose eigenvalues equals the values in eig_values list\n",
    "Q - (n x n matrix) An orthonormal matrix whose columns are the eigenvectors\n",
    "eig_values (list) A list with eigenvalues of A. It is the same list given as input.\n",
    "'''\n",
    "def generate_matrix(eig_values):\n",
    "    n = len(eig_values)\n",
    "    Q, _ = np.linalg.qr(np.random.rand(n, n))\n",
    "    L = np.diag(eig_values)\n",
    "    A = np.dot(Q, np.dot(L, Q.T))\n",
    "    return A, Q, eig_values\n",
    "\n",
    "'''\n",
    "Compute all the eigenvalues and eigenvectors using Deflation procedure.\n",
    "Input:\n",
    "A - (n x n matrix) Matrix to compute its eigenvalues and eigenvectors\n",
    "x0 - (array) Initial guess for Power Iteration\n",
    "it - (integer) Number of iteration for Power Iteration.\n",
    "Output:\n",
    "eig_values - (list) A list with the eigenvalues found by the algorithm\n",
    "eig_vectors - (list) A list with the eigenvectors found by the algorithm\n",
    "'''\n",
    "def deflation(A, x0, it):\n",
    "    #valores iniciales\n",
    "    A_i = A\n",
    "    lambd_i = 0\n",
    "    v_i = np.zeros(np.shape(A)[0])\n",
    "    #variables para ir almacenando eigenvalues y eigenvectors\n",
    "    eig_values = []\n",
    "    eig_vectors = []\n",
    "    for a in range(np.shape(A)[0]):\n",
    "        #utilizamos power iteration para \n",
    "        eig_value_, eig_vector_ = power_iteration(A_i, x0, it, verbose=False)\n",
    "        eig_values.append(eig_value_)\n",
    "        eig_vectors.append(eig_vector_)\n",
    "        lambd_i = eig_value_\n",
    "        v_i = eig_vector_\n",
    "        aux = np.outer(np.dot(lambd_i,v_i), np.transpose(v_i))\n",
    "        A_i = A_i - aux\n",
    "    return eig_values, eig_vectors"
   ]
  },
  {
   "cell_type": "markdown",
   "metadata": {},
   "source": [
    "Genere matrices con los siguientes valores propios:\n",
    "* $\\{1, 2, \\dots, 10\\}$.\n",
    "* $\\{2, 2^2, 2^3, \\dots, 2^{12}\\}$.\n",
    "\n",
    "Utilice las matrices generadas para probar su algoritmo. Su tarea será probada con otras matrices, pero puede utilizar estas para verificar la correctitud de su algoritmo."
   ]
  },
  {
   "cell_type": "code",
   "execution_count": 334,
   "metadata": {},
   "outputs": [
    {
     "name": "stdout",
     "output_type": "stream",
     "text": [
      "Original Eigenvalues: [1, 2, 3, 4, 5, 6, 7, 8, 9, 10]\n",
      "Eigenvalues Calculated with deflation: [10.0, 9.0, 8.0, 7.0, 6.0, 5.0, 4.0, 3.0, 2.0, 1.0]\n",
      "\n",
      "Original Eigenvalues: [2, 4, 8, 16, 32, 64, 128, 256, 512, 1024, 2048, 4096]\n",
      "Eigenvalues Calculated with deflation: [4096.0, 2048.0, 1024.0, 512.0, 256.0, 128.0, 64.0, 32.0, 16.0, 8.0, 4.0, 2.0]\n",
      "\n"
     ]
    }
   ],
   "source": [
    "it = 1000\n",
    "\n",
    "#primer caso \n",
    "N = 10\n",
    "x0 = np.ones(N)\n",
    "#creacion de matriz con valores propios {1, 2, 4, ...., 10}\n",
    "eigenvalues = [i+1 for i in range(N)]\n",
    "A, Q, aux = generate_matrix(eigenvalues1)\n",
    "#calculo mediante deflation\n",
    "eigenvalues_defl, eigenvectors_defl = deflation(A, x0, it)\n",
    "print(\"Original Eigenvalues: {}\\nEigenvalues Calculated with deflation: {}\\n\".format(eigenvalues, [round(temp,2)for temp in eigenvalues_defl]))\n",
    "\n",
    "#segundo caso\n",
    "N = 12\n",
    "x0 = np.ones(N)\n",
    "#creacion de matriz con valores propios {2^1, 2^2, 2^3, ...., 2^12}\n",
    "eigenvalues = [2**(i+1) for i in range(N)]\n",
    "A, Q, aux = generate_matrix(eigenvalues)\n",
    "#calculo mediante deflation\n",
    "eigenvalues_defl, eigenvectors_defl = deflation(A, x0, it)\n",
    "print(\"Original Eigenvalues: {}\\nEigenvalues Calculated with deflation: {}\\n\".format(eigenvalues, [round(temp,2)for temp in eigenvalues_defl]))"
   ]
  },
  {
   "cell_type": "markdown",
   "metadata": {},
   "source": [
    "**3. (15 puntos)** Implemente el algoritmo *Normalized Simultaneous Iteration* (NSI). Genere matrices de los siguientes tamaños, utilizando la función `generate_matrix`:\n",
    "\n",
    "* $100 \\times 100$.\n",
    "* $1000 \\times 1000$.\n",
    "* $10000 \\times 10000$.\n",
    "* $15000 \\times 15000$.\n",
    "\n",
    "Estime teóricamente cuanta memoria requiere cada uno de los algoritmos. Además, ejecute ambos algoritmos sobre las matrices generadas y mida el tiempo de ejecución. Concluya respecto a los resultados."
   ]
  },
  {
   "cell_type": "code",
   "execution_count": 346,
   "metadata": {},
   "outputs": [],
   "source": [
    "#ref: http://mlwiki.org/index.php/Power_Iteration#Orthogonal_Iteration \n",
    "def normalized_simultaneous_power_iteration(A, k, it):\n",
    "    #generacion de vectores aleatorios\n",
    "    n, m = np.shape(A)\n",
    "    Q = np.random.rand(n, k)\n",
    "    #factorizacion QR para obtener el vector Q ortonormal\n",
    "    Q, _ = np.linalg.qr(Q)\n",
    "    Q_prev = Q\n",
    "    for i in range(it):\n",
    "        Z = A.dot(Q)\n",
    "        Q, R = np.linalg.qr(Z)\n",
    "    return np.diag(R), Q"
   ]
  },
  {
   "cell_type": "code",
   "execution_count": 362,
   "metadata": {},
   "outputs": [
    {
     "name": "stdout",
     "output_type": "stream",
     "text": [
      "Prueba ejecutada Usando valores propios de la forma 1, 2, 3, ... n \n",
      " para generate_matrix\n",
      "Tiempos de ejecucion para el caso 10x10\n",
      "Con deflation:0.020199800026603043\n",
      "Con NSI:0.011212700046598911\n",
      "\n",
      "Tiempos de ejecucion para el caso 100x100\n",
      "Con deflation:0.14981279999483377\n",
      "Con NSI:0.07364299998153001\n",
      "\n",
      "Tiempos de ejecucion para el caso 200x200\n",
      "Con deflation:0.41973119997419417\n",
      "Con NSI:0.27207910001743585\n",
      "\n",
      "Tiempos de ejecucion para el caso 300x300\n",
      "Con deflation:1.0773079000064172\n",
      "Con NSI:0.827541500038933\n",
      "\n",
      "Tiempos de ejecucion para el caso 400x400\n",
      "Con deflation:3.012690100003965\n",
      "Con NSI:1.8855878999456763\n",
      "\n",
      "Tiempos de ejecucion para el caso 500x500\n",
      "Con deflation:4.849398599995766\n",
      "Con NSI:3.2943824999965727\n",
      "\n"
     ]
    }
   ],
   "source": [
    "it = 100\n",
    "#primer caso \n",
    "N_2 = [100, 1000, 15000]\n",
    "N_ = [10, 100, 200, 300, 400, 500]\n",
    "y_defl = []\n",
    "y_nsi = []\n",
    "print(\"Prueba ejecutada Usando valores propios de la forma 1, 2, 3, ... n \\n para generate_matrix\")\n",
    "#reemplazar por N_2 para probar con los casos originales\n",
    "for N in N_:\n",
    "    print(\"Tiempos de ejecucion para el caso {}x{}\".format(N,N))\n",
    "    x0 = np.ones(N)\n",
    "    #creacion de matriz con valores propios {1, 2, 4, ...., 10}\n",
    "    eigenvalues = [i+1 for i in range(N)]\n",
    "    A, Q, aux = generate_matrix(eigenvalues)\n",
    "    \n",
    "    #calculo mediante deflation\n",
    "    start = time.perf_counter()\n",
    "    eigenvalues_defl, eigenvectors_defl = deflation(A, x0, it)\n",
    "    time_ = time.perf_counter() - start\n",
    "    y_defl.append(time_)\n",
    "    print(\"Con deflation:{}\".format(time_))\n",
    "    \n",
    "    #calculo mediante NSI\n",
    "    start = time.perf_counter()\n",
    "    eigenvalues_nsi, eigenvectors_nsi = normalized_simultaneous_power_iteration(A, N, it)\n",
    "    time_ = time.perf_counter() - start\n",
    "    y_nsi.append(time_)\n",
    "    print(\"Con NSI:{}\\n\".format(time_))"
   ]
  },
  {
   "cell_type": "markdown",
   "metadata": {},
   "source": [
    "Dado que los tiempos de computo se escapan al tiempo que tengo para entregar la tarea, se optó por probar con tamaños de matrices mas pequeñas N = [10,100,300,400,500], y en base a esto generar un grafico para analizar. Podemos ver claramente que la diferencia entre el tiempo de calculo de ambos algoritmos no crece linealmente a medida que el tamaño de la matriz crece, y por tanto para matrices demasiado grandes, resulta impractico el calculo de esta manera, sobre todo con NSI, que es el que mas demora."
   ]
  },
  {
   "cell_type": "code",
   "execution_count": 377,
   "metadata": {},
   "outputs": [
    {
     "data": {
      "text/plain": [
       "<matplotlib.legend.Legend at 0x20c01656550>"
      ]
     },
     "execution_count": 377,
     "metadata": {},
     "output_type": "execute_result"
    },
    {
     "data": {
      "image/png": "[encoded data removed]",
      "text/plain": [
       "<Figure size 1080x720 with 1 Axes>"
      ]
     },
     "metadata": {
      "needs_background": "light"
     },
     "output_type": "display_data"
    }
   ],
   "source": [
    "#construimos nuestro grafico\n",
    "x = N_\n",
    "plt.figure(figsize=(15,10))\n",
    "plt.title(\"tamaño de sistema vs tiempo\")\n",
    "plt.plot(x,y_defl,'bo-', label='tiempos con deflation')\n",
    "plt.plot(x,y_nsi,'ro-', label='tiempos con NSI')\n",
    "plt.xlabel(\"Tamano matriz\")\n",
    "plt.ylabel(\"Tiempo\")\n",
    "plt.legend\n",
    "plt.legend()"
   ]
  },
  {
   "cell_type": "markdown",
   "metadata": {},
   "source": [
    "Estimando la memoria en base a n (tamaño de la matriz). Para el algoritmo deflation necesitamos:\n",
    "\n",
    "$n^2$ para almacenar A  \n",
    "$n^2 + 2n$ variables para calcular power_iteration (para A, x y para calcular lambda)  \n",
    "Entonces necesitamos al menos $2 n^2  + 2n \\implies  (2 n^2  + 2n) \\cdot 8[B] $\n",
    "\n",
    "\n",
    "Por otro lado para NSI necesitamos:  \n",
    "$n^2$ para almacenar A \n",
    "$n^2$ para almacenar $Q_0$  \n",
    "$n^2$ para almacenar Q, luego de hacer QR (no almacenamos R)  \n",
    "$2 n^2$ para almacenar Q y diag(R) que se retornan  \n",
    "\n",
    "Entonces necesitamos al menos 5 matrices de $n x n \\implies  5n^2 \\cdot 8[B] $\n",
    "\n",
    "Con esto podemos tener una idea de que estos algoritmos no nos serviran para matrices densas demasiado grandes (se descartaron variables pequeñas en comparacion con las matrices)"
   ]
  },
  {
   "cell_type": "markdown",
   "metadata": {},
   "source": [
    "## Sección 2: Uso de matrices *Sparse* (60 puntos)\n",
    "\n",
    "Cuando una matriz es de tipo *Sparse*[1], es posible trabajar sobre matrices de mayor tamaño, debido a que se evita el almacenamiento de valores *innecesarios* (en este caso, los ceros)."
   ]
  },
  {
   "cell_type": "markdown",
   "metadata": {},
   "source": [
    "**1. (5 puntos)** Implemente la función `read_sparse_matrix` que reciba la ruta a un archivo de texto plano que contiene una matriz *sparse*, y construya la matriz respectiva utilizando una estructura de datos especializada para matrices *sparse*[2]. El formato del archivo será:\n",
    "* La primera línea del archivo contendrá un solo número `N`, donde `N` indica el tamaño de la matriz (matriz de tamaño `N`$\\times$`N`).\n",
    "* Cada una de las siguientes líneas contiene 3 números separados por espacios, que indicarán las entradas no nulas de la matriz. Si la línea contiene los números `i j a`, esto indica que en la fila `i` y columna `j`, la matriz tiene un coeficiente con valor `a`."
   ]
  },
  {
   "cell_type": "code",
   "execution_count": 319,
   "metadata": {},
   "outputs": [],
   "source": [
    "'''\n",
    "Read a file in the specified format to build a Sparse Matrix.\n",
    "Input:\n",
    "path - (string) A path to a file.\n",
    "Output:\n",
    "A - (N x N matrix) The matrix in a sparse format.\n",
    "'''\n",
    "def read_sparse_matrix(path):\n",
    "    verbose = False\n",
    "    f = open(path, \"r\")\n",
    "    #obtenemos el tamaño de la matriz\n",
    "    N = int(f.readline())\n",
    "    row = []\n",
    "    col = []\n",
    "    data = []\n",
    "    for line in f:\n",
    "        #leemos los 3 elementos de cada linea\n",
    "        row_, col_, data_ = line.split()\n",
    "        if verbose: print(\"A_({},{}) = {}\".format(row_, col_, data_))\n",
    "        #generamos un vector de indices fila\n",
    "        row.append(int(row_))\n",
    "        #generamos un vector de indices columna\n",
    "        col.append(int(col_))\n",
    "        #generamos un vector de datos != de cero para los indices definidos en row y col\n",
    "        data.append(float(data_))\n",
    "    #instanciamos nuestra matriz sparse en base a los indices y datos definidos en row, col y data\n",
    "    return csr_matrix((data, (row, col)), shape=(N,N))\n",
    "\n",
    "matrix_10000 = read_sparse_matrix(\"matrix_10000.txt\")\n",
    "matrix_20000 = read_sparse_matrix(\"matrix_20000.txt\")\n",
    "matrix_50000 = read_sparse_matrix(\"matrix_50000.txt\")"
   ]
  },
  {
   "cell_type": "markdown",
   "metadata": {},
   "source": [
    "Cargue las matrices adjuntas en los archivos `matrix_10000.txt`, `matrix_20000.txt` y `matrix_50000.txt`, de dimensiones $10000 \\times 10000$, $20000 \\times 20000$ y $50000\\times50000$ respectivamente, utlizando la función `read_sparse_matrix`. Considerando *double precision* para los números de punto flotante, indique cuánta memoria utilizarían estas matrices si fuesen cargadas utilizando arreglos bidimensionales o estructuras no-especializadas para matrices *sparse*. ¿Existe alguna diferencia al utilizar las estructuras de datos *sparse*?"
   ]
  },
  {
   "cell_type": "code",
   "execution_count": 108,
   "metadata": {},
   "outputs": [
    {
     "name": "stdout",
     "output_type": "stream",
     "text": [
      "In-memory size sparse Matrices\n",
      "Matrix_10000: 3910400 Bytes or 3.73 MB\n",
      "Matrix_20000: 3038560 Bytes or 2.90 MB\n",
      "Matrix_50000: 3599680 Bytes or 3.43 MB\n",
      "Teorical In-memory size for non-sparse Matrices(assuming 8 bytes for double precision float)\n",
      "Matrix_10000: 800000000 Bytes or 762.94 MB\n",
      "Matrix_20000: 3200000000 Bytes or 3051.76 MB\n",
      "Matrix_50000: 20000000000 Bytes or 19073.49 MB\n"
     ]
    }
   ],
   "source": [
    "print(\"In-memory size sparse Matrices\")\n",
    "print(\"Matrix_10000: {} Bytes or {:.2f} MB\".format(matrix_10000.data.nbytes, matrix_10000.data.nbytes/(1024**2)))\n",
    "print(\"Matrix_20000: {} Bytes or {:.2f} MB\".format(matrix_20000.data.nbytes, matrix_20000.data.nbytes/(1024**2)))\n",
    "print(\"Matrix_50000: {} Bytes or {:.2f} MB\".format(matrix_50000.data.nbytes, matrix_50000.data.nbytes/(1024**2)))\n",
    "print(\"Teorical In-memory size for non-sparse Matrices (assuming 8 bytes for double precision float)\")\n",
    "print(\"Matrix_10000: {} Bytes or {:.2f} MB\".format((matrix_10000.get_shape()[0]*matrix_10000.get_shape()[1])*8, ((matrix_10000.get_shape()[0]*matrix_10000.get_shape()[1])*8)/(1024**2)))\n",
    "print(\"Matrix_20000: {} Bytes or {:.2f} MB\".format((matrix_20000.get_shape()[0]*matrix_20000.get_shape()[1])*8, ((matrix_20000.get_shape()[0]*matrix_20000.get_shape()[1])*8)/(1024**2)))\n",
    "print(\"Matrix_50000: {} Bytes or {:.2f} MB\".format((matrix_50000.get_shape()[0]*matrix_50000.get_shape()[1])*8, ((matrix_50000.get_shape()[0]*matrix_50000.get_shape()[1])*8)/(1024**2)))"
   ]
  },
  {
   "cell_type": "markdown",
   "metadata": {},
   "source": [
    "**R:** Creo que lo optimo en este problema es utilizar codigo para obtener el espacio en memoria de la matriz almacenada como sparse, y compararlo con cuanta memoria debiera ocupar la matriz densa teoricamente, ya que si cargar la matriz densa en memoria y usar codigo para obtener su tamaño, nos dejaría sin memoria. De esta manera tenemos que:\n",
    "\n",
    "- Para el caso de la matriz de 10000x10000: la matriz con estructura sparse ocupa aproximadamente un 0,4% de lo que ocuparía sin una estructura de datos sparse (almacenada tradicionalmente, como una matriz densa).\n",
    "- Para el caso de la matriz de 20000x20000: la matriz con estructura sparse ocupa aproximadamente un $9,5 \\cdot 10^{-4}$% de lo que ocuparía sin una estructura de datos sparse (almacenada tradicionalmente, como una matriz densa).\n",
    "- Para el caso de la matriz de 50000x50000: la matriz con estructura sparse ocupa aproximadamente un $1,8 \\cdot 10^{-4}$% de lo que ocuparía sin una estructura de datos sparse (almacenada tradicionalmente, como una matriz densa).\n",
    "\n",
    "Por lo que es facil notar que la diferencia es de varios ordenes de magnitud, incluso para matrices relativamente pequeñas como las entregadas. Esto se debe a que las estructuras de datos sparse, solo guardan los datos no nulo."
   ]
  },
  {
   "cell_type": "markdown",
   "metadata": {},
   "source": [
    "**2. (25 puntos)** Suponga ahora que la matriz simétrica $A$ en el algoritmo de *Deflation* es *Sparse*. Notar que luego de calcular el valor y vector propio dominante de $A$, el resultado obtenido para calcular $A_1$:\n",
    "\n",
    "$$\n",
    "    A_1 = A - \\lambda_1\\mathbf{v}_1\\,\\mathbf{v}_1^T,\n",
    "$$\n",
    "\n",
    "**no** necesariamente es una matriz *sparse*. Esto se debe a que la matriz $\\mathbf{v}_1\\mathbf{v}_1^T$ no necesariamente es *sparse* y al restarse con $A$, esta propiedad puede perderse.\n",
    "\n",
    "A pesar de lo anterior, una propiedad importante de *Power Iteration* es que no opera direcamente sobre la matriz, si no que solo es requerida a través del producto **matriz-vector**. Notar que si se desea calcular $A_1\\mathbf{u}$, donde $\\mathbf{u}$ es un vector arbitrario, puede calcularse como\n",
    "\n",
    "$$\n",
    "    A_1\\mathbf{u} \n",
    "    = \\left(A - \\lambda_1\\mathbf{v}_1\\,\\mathbf{v}_1^T\\right)\\mathbf{u}\n",
    "    = A\\mathbf{u} - \\lambda_1 \\mathbf{v}_1 \\left(\\mathbf{v}_1^T\\mathbf{u}\\right).\n",
    "$$\n",
    "\n",
    "De esta manera, no es necesario construir explícitamente la matriz $\\mathbf{v}_1\\mathbf{v}_1^T$. De manera general, la matriz $A_i\\mathbf{u}$ puede calcularse como\n",
    "\n",
    "$$\n",
    "    A_i\\mathbf{u} = A\\mathbf{u} - \\sum_{k = 1}^{i}\\lambda_k \\left( \\mathbf{v}_k^T\\mathbf{u} \\right) \\mathbf{v}_k.\n",
    "$$\n",
    "\n",
    "Implemente la función `A_times_vector` que reciba como parámetros: \n",
    "\n",
    "* Una matriz de tipo *sparse*.\n",
    "* Un entero $k$.\n",
    "* Una lista con $k$ valores propios.\n",
    "* Una lista con $k$ vectores propios.\n",
    "* Un vector $\\mathbf{u}$, arbitrario.\n",
    "\n",
    "La función debe retornar el resultado numérico del producto matriz-vector $A_{k}\\mathbf{u}$."
   ]
  },
  {
   "cell_type": "code",
   "execution_count": 486,
   "metadata": {},
   "outputs": [],
   "source": [
    "'''\n",
    "Implementation of a Deflation matriz-vector product to avoid building non-sparse matrix\n",
    "Input:\n",
    "A - (N x N matrix) A matrix in a sparse format.\n",
    "k - (integer) An integer.\n",
    "k_eig_values - (list) A list with k eigenvalues of A.\n",
    "k_eig_vectors - (list) A list with k eigenvectors of A.\n",
    "u - (array) An arbitrary vector\n",
    "Output:\n",
    "b - (array) The result of a Deflation matrix times u, using the given eigenvalues and eigenvectors.\n",
    "'''\n",
    "def A_times_vector(A_k, k, k_eig_values, k_eig_vectors, u):\n",
    "    sum_ = 0\n",
    "    for i in range(k):\n",
    "        lambd_k = k_eig_values[i]\n",
    "        v_k = k_eig_vectors[i]\n",
    "        temp = np.dot(v_k.transpose(),u)\n",
    "        temp = temp * v_k\n",
    "        sum_ = sum_ + (lambd_k * temp) \n",
    "    b = (A_k * u) - sum_\n",
    "    return b"
   ]
  },
  {
   "cell_type": "markdown",
   "metadata": {},
   "source": [
    "**3. (30 puntos)** Implemente la función `sparse_deflation`, modificando su implementación inicial de *Deflation*, que permita operar sobre matrices de gran dimenensión y que sean *sparse*. Para esto, utilice la implementación realizada de la función `A_times_vector` en combinación con el algoritmo de *Power Iteration*. La función `sparse_deflation` recibe como parámetros:\n",
    "* La matriz $A$ de tipo *sparse*.\n",
    "* El *initial guess* $\\mathbf{x}_0$.\n",
    "* El número de iteraciones a realizar en *Power Iteration*\n",
    "* Un número $T$ que indique el número de valores y vectores propios que se desean obtener de la matriz $A$."
   ]
  },
  {
   "cell_type": "code",
   "execution_count": 505,
   "metadata": {},
   "outputs": [
    {
     "name": "stdout",
     "output_type": "stream",
     "text": [
      "eigenvalues_sp_numpy:[104.6453971 +0.j  96.05815909+0.j  92.15974515+0.j  90.59870823+0.j\n",
      "  88.62043639+0.j  87.90992236+0.j  87.63050846+0.j  87.08707346+0.j\n",
      "  86.41053826+0.j  86.09559278+0.j]\n",
      "eigenvalues_sp_defl:[104.64539710068898, 96.05815905868171, 92.1533519738743, 90.60495981215624, 88.60389520421336, 87.89531261669954, 87.01749713560802, 87.29789341552383, 86.46724937177623, 86.06222951805184]\n"
     ]
    }
   ],
   "source": [
    "'''\n",
    "modified version of power iteration, to take into consideration that we \n",
    "dont have A, but A*u\n",
    "'''\n",
    "def power_iteration_sparse(myfun, A, x, it, k, k_eig_values, k_eig_vectors, verbose=False):\n",
    "    if verbose: print(\"Power Iteration Method\\n%s\"%('='*80))\n",
    "    for j in range(it):\n",
    "        u = x/norm(x)\n",
    "        x = myfun(A, k, k_eig_values,k_eig_vectors, u)\n",
    "        lam = np.dot(u,x) #not really necessary to compute it at each iteration\n",
    "        if verbose: print(\"k=%d, lambda=%+.3f, u=%s\"%(j,lam,str(u.T)))\n",
    "    u = x/norm(x)\n",
    "    if verbose: print(\"k=%d, lambda=%+.3f, u=%s\\n\"%(j+1,lam,str(u.T)))\n",
    "    return lam, u\n",
    "\n",
    "def power_iteration1(A, x, k, verbose=False):\n",
    "    if verbose: print(\"Power Iteration Method\\n%s\"%('='*80))\n",
    "    for j in range(k):\n",
    "        u = x/norm(x)\n",
    "        x = A * u\n",
    "        lam = np.dot(u, x)\n",
    "        if verbose: print(\"k=%d, lambda=%+.3f, u=%s\"%(j,lam,str(u.T)))\n",
    "    u = x/norm(x)\n",
    "    if verbose: print(\"k=%d, lambda=%+.3f, u=%s\\n\"%(j+1,lam,str(u.T)))\n",
    "    return lam, u \n",
    "\n",
    "'''\n",
    "Compute T eigenvalues and eigenvectors from the sparse matrix A, using Deflation.\n",
    "Input:\n",
    "A - (n x n matrix) Sparse matrix\n",
    "x0 - (array) Initial guess for Power Iteration\n",
    "it - (integer) Number of iterations for Power Iteration\n",
    "T - (integer) Number of eigenvalues and eigenvectors to compute from A\n",
    "Output:\n",
    "eig_values - (list) List of T eigenvalues found by the algorithm\n",
    "eig_vectors - (list) List of T eigenvectors found by the algorithm\n",
    "'''\n",
    "def sparse_deflation(A, x0, it, T):\n",
    "    #variables para ir almacenando eigenvalues y eigenvectors\n",
    "    eig_values = []\n",
    "    eig_vectors = []\n",
    "    #calculamos el primer valor propio dominante\n",
    "    eig_value_, eig_vector_ = power_iteration1(A, x0, it, verbose=False)\n",
    "    eig_values.append(eig_value_)\n",
    "    eig_vectors.append(eig_vector_)\n",
    "    #obtendremos hasta el T valor propio\n",
    "    for k in range(T):\n",
    "        if k > 0:\n",
    "            #utilizamos power iteration para\n",
    "            eig_value_, eig_vector_ = power_iteration_sparse(A_times_vector, A, x0, it, k, eig_values, eig_vectors, verbose=False)\n",
    "            eig_values.append(eig_value_)\n",
    "            eig_vectors.append(eig_vector_)\n",
    "        #no hay necesidad de estos calculos, ya que son realizados en la funcion A_times_vector\n",
    "        #lambd_i = eig_value_\n",
    "        #v_i = eig_vector_\n",
    "        #aux = np.outer(np.dot(lambd_i,v_i), np.transpose(v_i))\n",
    "        #A_i = A_i - aux\n",
    "    return eig_values, eig_vectors\n",
    "\n",
    "#validamos que el algoritmo hace lo que debe haber obteniendo los primeros 10 valores propios\n",
    "#de la matriz de 10000x10000\n",
    "matrix_10000 = read_sparse_matrix(\"matrix_10000.txt\")\n",
    "it = 200\n",
    "#primer caso\n",
    "T = 10\n",
    "x0 = np.ones(10000)\n",
    "eigenvalues_sp_scipy, eigenvectors_sp_defl = eigs(matrix_10000, k=10)\n",
    "print(\"eigenvalues_sp_numpy:{}\".format(eigenvalues_sp_scipy))\n",
    "eigenvalues_sp_defl, eigenvectors_sp_defl = sparse_deflation(matrix_10000, x0, it, T)\n",
    "print(\"eigenvalues_sp_defl:{}\".format(eigenvalues_sp_defl))"
   ]
  },
  {
   "cell_type": "markdown",
   "metadata": {},
   "source": [
    "Aplique la función `sparse_deflation` sobre las matrices cargadas desde los archivos adjuntos, para distintos valores de $T$ y de iteraciones para *Power Iteration*. Mida los tiempos de ejecución y concluya al respecto. ¿Podría haber aplicado el algoritmo NSI para estas matrices? Justifique y concluya al respecto."
   ]
  },
  {
   "cell_type": "code",
   "execution_count": 503,
   "metadata": {},
   "outputs": [
    {
     "data": {
      "application/vnd.jupyter.widget-view+json": {
       "model_id": "188b9c7e0a05430a9ac1bc870086caf2",
       "version_major": 2,
       "version_minor": 0
      },
      "text/plain": [
       "interactive(children=(Dropdown(description='T', options=(10, 20, 30, 40, 50), value=10), Dropdown(description=…"
      ]
     },
     "metadata": {},
     "output_type": "display_data"
    },
    {
     "data": {
      "text/plain": [
       "<function __main__.testing(T, it)>"
      ]
     },
     "execution_count": 503,
     "metadata": {},
     "output_type": "execute_result"
    }
   ],
   "source": [
    "def testing(T, it):\n",
    "    files = [10000, 20000, 50000]\n",
    "    y_defl_sparse = []\n",
    "    for size in files:\n",
    "        matrix = read_sparse_matrix(\"matrix_{}.txt\".format(size))\n",
    "        #primer caso\n",
    "        x0 = np.ones(size)\n",
    "        #calculo mediante deflation\n",
    "        start = time.perf_counter()\n",
    "        eigenvalues_sp_defl, eigenvectors_sp_defl = sparse_deflation(matrix, x0, it, T)\n",
    "        time_ = time.perf_counter() - start\n",
    "        y_defl_sparse.append(time_)\n",
    "        print(\"Con deflation_sparse, T={},it={} y tamano {}x{} : {}\".format(T, it, size, size, time_))\n",
    "    #construimos nuestro grafico\n",
    "    plt.figure(figsize=(15,10))\n",
    "    plt.title(\"tamaño de sistema vs tiempo\")\n",
    "    plt.plot(files,y_defl_sparse,'bo-', label='tiempos')\n",
    "    plt.xlabel(\"Tamano matriz\")\n",
    "    plt.ylabel(\"Tiempo\")\n",
    "    plt.legend()\n",
    "\n",
    "interact(testing,T=[10,20,30,40,50],it=[50,100,150,200,1000])"
   ]
  },
  {
   "cell_type": "markdown",
   "metadata": {},
   "source": [
    "**Conclusiones:** El algoritmo NSI hace uso de la factorizacion A = QR, y nada asegura que la propiedad sparse de la matriz A, pueda mantenerse en Q ni en R. Como el algoritmo hace uso de Q explicitamente, no podriamos haberlo utilizado ya que habría significado guardar dos matrices potencialmente densas Q y R, por tanto nos habriamos quedado sin memoria rapidamente. Además que sabemos que QR es un algoritmo bastante costoso, por lo cual los tiempos de computo tambien habrían sido demasiado elevados. \n",
    "\n",
    "Por otra parte podemos ver que el algoritmo deflation para matrices sparse, realmente ofreces tiempos bastante razonables para matrices incluso de 50000x50000, lo cual es bastante apreciable al momento de ejecutar el widget. Tampoco vemos en el sistema una lentitud ni falta de memoria en lo absoluto."
   ]
  },
  {
   "cell_type": "markdown",
   "metadata": {},
   "source": [
    "---\n",
    "\n",
    "# Referencias\n"
   ]
  },
  {
   "cell_type": "markdown",
   "metadata": {
    "collapsed": true
   },
   "source": [
    "[1] Sparse matrix, https://en.wikipedia.org/wiki/Sparse_matrix \n",
    "[fecha: 13-10 - 2019- 17:00]\n",
    "\n",
    "[2] Sparse module, Scipy. https://docs.scipy.org/doc/scipy/reference/sparse.html [fecha: 12-10-2019 - 13:02]\n",
    "\n",
    "[3] Size of a sparse Matrix, https://stackoverflow.com/questions/11173019/determining-the-byte-size-of-a-scipy-sparse-matrix [fecha: 15-10-2019 - 17:35]\n",
    "\n",
    "[4] Normalized simultaneous Iteration. http://mlwiki.org/index.php/Power_Iteration#Orthogonal_Iteration [fecha: 15-10-2019 - 17:35]\n",
    "https://www.inf.utfsm.cl/~parce/cc2/clase6-PA.html [fecha: 15-10-2019 - 17:35]\n",
    "\n",
    "[5] https://github.com/tclaudioe/Scientific-Computing/blob/master/SC2/U1_EigenWorld.ipynb [fecha: 15-10-2019 - 17:35]"
   ]
  }
 ],
 "metadata": {
  "colab": {
   "collapsed_sections": [],
   "name": "Tarea4.ipynb",
   "provenance": [],
   "version": "0.3.2"
  },
  "kernelspec": {
   "display_name": "Python 3",
   "language": "python",
   "name": "python3"
  },
  "language_info": {
   "codemirror_mode": {
    "name": "ipython",
    "version": 3
   },
   "file_extension": ".py",
   "mimetype": "text/x-python",
   "name": "python",
   "nbconvert_exporter": "python",
   "pygments_lexer": "ipython3",
   "version": "3.7.3"
  }
 },
 "nbformat": 4,
 "nbformat_minor": 1
}
